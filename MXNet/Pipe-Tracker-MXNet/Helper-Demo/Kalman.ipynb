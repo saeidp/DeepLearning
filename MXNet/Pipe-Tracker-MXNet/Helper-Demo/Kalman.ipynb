{
 "cells": [
  {
   "cell_type": "code",
   "execution_count": null,
   "metadata": {},
   "outputs": [],
   "source": [
    "import cv2, numpy as np\n",
    "\n",
    "meas=[]\n",
    "pred=[]\n",
    "frame = np.zeros((400,400,3), np.uint8) # drawing canvas\n",
    "mp = np.array((2,1), np.float32) # measurement\n",
    "tp = np.zeros((2,1), np.float32) # tracked / prediction\n",
    "\n",
    "def onmouse(k,x,y,s,p):\n",
    "    global mp,meas\n",
    "    mp = np.array([[np.float32(x)],[np.float32(y)]])\n",
    "    meas.append((x,y))\n",
    "\n",
    "def paint():\n",
    "    global frame,meas,pred\n",
    "    for i in range(len(meas)-1): cv2.line(frame,meas[i],meas[i+1],(0,100,0))\n",
    "    for i in range(len(pred)-1): cv2.line(frame,pred[i],pred[i+1],(0,0,200))\n",
    "\n",
    "def reset():\n",
    "    global meas,pred,frame\n",
    "    meas=[]\n",
    "    pred=[]\n",
    "    frame = np.zeros((400,400,3), np.uint8)\n",
    "\n",
    "cv2.namedWindow(\"kalman\")\n",
    "cv2.setMouseCallback(\"kalman\",onmouse);\n",
    "kalman = cv2.KalmanFilter(4,2)\n",
    "kalman.measurementMatrix = np.array([[1,0,0,0],[0,1,0,0]],np.float32)\n",
    "kalman.transitionMatrix = np.array([[1,0,1,0],[0,1,0,1],[0,0,1,0],[0,0,0,1]],np.float32)\n",
    "kalman.processNoiseCov = np.array([[1,0,0,0],[0,1,0,0],[0,0,1,0],[0,0,0,1]],np.float32) * 0.03\n",
    "#kalman.measurementNoiseCov = np.array([[1,0],[0,1]],np.float32) * 0.00003\n",
    "while True:\n",
    "    kalman.correct(mp)\n",
    "    tp = kalman.predict()\n",
    "    pred.append((int(tp[0]),int(tp[1])))\n",
    "    paint()\n",
    "    cv2.imshow(\"kalman\",frame)\n",
    "    k = cv2.waitKey(30) &0xFF\n",
    "    if k == 27: break\n",
    "    if k == 32: reset()"
   ]
  },
  {
   "cell_type": "code",
   "execution_count": null,
   "metadata": {},
   "outputs": [],
   "source": []
  }
 ],
 "metadata": {
  "kernelspec": {
   "display_name": "Python 3",
   "language": "python",
   "name": "python3"
  },
  "language_info": {
   "codemirror_mode": {
    "name": "ipython",
    "version": 3
   },
   "file_extension": ".py",
   "mimetype": "text/x-python",
   "name": "python",
   "nbconvert_exporter": "python",
   "pygments_lexer": "ipython3",
   "version": "3.6.10"
  }
 },
 "nbformat": 4,
 "nbformat_minor": 4
}
