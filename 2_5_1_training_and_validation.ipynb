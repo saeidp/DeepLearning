{
 "cells": [
  {
   "cell_type": "markdown",
   "metadata": {},
   "source": [
    "<h1>Linear regression: Training and Validation Data</h1> "
   ]
  },
  {
   "cell_type": "code",
   "execution_count": 1,
   "metadata": {},
   "outputs": [],
   "source": [
    "# Import libraries we need for this lab, and set the random seed\n",
    "\n",
    "from torch import nn\n",
    "import torch\n",
    "import numpy as np\n",
    "import matplotlib.pyplot as plt\n",
    "from torch import nn,optim"
   ]
  },
  {
   "cell_type": "markdown",
   "metadata": {},
   "source": [
    "<h2 id=\"Makeup_Data\">Make Some Data</h2>"
   ]
  },
  {
   "cell_type": "code",
   "execution_count": 3,
   "metadata": {},
   "outputs": [],
   "source": [
    "# Create Data class\n",
    "\n",
    "from torch.utils.data import Dataset, DataLoader\n",
    "\n",
    "class Data(Dataset):\n",
    "    \n",
    "    # Constructor\n",
    "    def __init__(self, train = True):\n",
    "            self.x = torch.arange(-3, 3, 0.1).view(-1, 1)\n",
    "            self.f = -3 * self.x + 1\n",
    "            self.y = self.f + 0.1 * torch.randn(self.x.size())\n",
    "            self.len = self.x.shape[0]\n",
    "            \n",
    "            #outliers \n",
    "            if train == True:\n",
    "                self.y[0] = 0\n",
    "                self.y[50:55] = 20\n",
    "            else:\n",
    "                pass\n",
    "      \n",
    "    # Getter\n",
    "    def __getitem__(self, index):    \n",
    "        return self.x[index], self.y[index]\n",
    "    \n",
    "    # Get Length\n",
    "    def __len__(self):\n",
    "        return self.len"
   ]
  },
  {
   "cell_type": "code",
   "execution_count": 4,
   "metadata": {},
   "outputs": [],
   "source": [
    "# Create training dataset and validation dataset\n",
    "\n",
    "train_data = Data()\n",
    "val_data = Data(train = False)"
   ]
  },
  {
   "cell_type": "code",
   "execution_count": 5,
   "metadata": {},
   "outputs": [
    {
     "data": {
      "image/png": "[encoded data removed]",
      "text/plain": [
       "<Figure size 432x288 with 1 Axes>"
      ]
     },
     "metadata": {
      "needs_background": "light"
     },
     "output_type": "display_data"
    }
   ],
   "source": [
    "# Plot out training points\n",
    "\n",
    "plt.plot(train_data.x.numpy(), train_data.y.numpy(), 'xr')\n",
    "plt.plot(train_data.x.numpy(), train_data.f.numpy())\n",
    "plt.show()"
   ]
  },
  {
   "cell_type": "markdown",
   "metadata": {},
   "source": [
    "<h2 id=\"LR_Loader_Cost\">Create a Linear Regression Object,  Data Loader, and Criterion Function</h2>"
   ]
  },
  {
   "cell_type": "code",
   "execution_count": 6,
   "metadata": {},
   "outputs": [],
   "source": [
    "# Create Linear Regression Class\n",
    "\n",
    "from torch import nn\n",
    "\n",
    "class linear_regression(nn.Module):\n",
    "    \n",
    "    # Constructor\n",
    "    def __init__(self, input_size, output_size):\n",
    "        super(linear_regression, self).__init__()\n",
    "        self.linear = nn.Linear(input_size, output_size)\n",
    "    \n",
    "    # Prediction function\n",
    "    def forward(self, x):\n",
    "        yhat = self.linear(x)\n",
    "        return yhat"
   ]
  },
  {
   "cell_type": "code",
   "execution_count": 7,
   "metadata": {},
   "outputs": [],
   "source": [
    "# Create MSELoss function and DataLoader\n",
    "\n",
    "criterion = nn.MSELoss()\n",
    "trainloader = DataLoader(dataset = train_data, batch_size = 1)"
   ]
  },
  {
   "cell_type": "markdown",
   "metadata": {},
   "source": [
    "<h2 id=\"LR_Hyper\">Different learning rates and Data Structures to Store results for different Hyperparameters</h2>"
   ]
  },
  {
   "cell_type": "code",
   "execution_count": 8,
   "metadata": {},
   "outputs": [],
   "source": [
    "# Create Learning Rate list, the error lists and the MODELS list\n",
    "\n",
    "learning_rates=[0.0001, 0.001, 0.01, 0.1]\n",
    "\n",
    "train_error=torch.zeros(len(learning_rates))\n",
    "validation_error=torch.zeros(len(learning_rates))\n",
    "\n",
    "MODELS=[]"
   ]
  },
  {
   "cell_type": "code",
   "execution_count": 10,
   "metadata": {},
   "outputs": [],
   "source": [
    "# Define the train model function and train the model\n",
    "\n",
    "def train_model_with_lr (iter, lr_list):\n",
    "    \n",
    "    # iterate through different learning rates \n",
    "    for i, lr in enumerate(lr_list):\n",
    "        model = linear_regression(1, 1)\n",
    "        optimizer = optim.SGD(model.parameters(), lr = lr)\n",
    "        for epoch in range(iter):\n",
    "            for x, y in trainloader:\n",
    "                yhat = model(x)\n",
    "                loss = criterion(yhat, y)\n",
    "                optimizer.zero_grad()\n",
    "                loss.backward()\n",
    "                optimizer.step()\n",
    "                \n",
    "        # train data\n",
    "        Yhat = model(train_data.x)\n",
    "        train_loss = criterion(Yhat, train_data.y)\n",
    "        train_error[i] = train_loss.item()\n",
    "    \n",
    "        # validation data\n",
    "        Yhat = model(val_data.x)\n",
    "        val_loss = criterion(Yhat, val_data.y)\n",
    "        validation_error[i] = val_loss.item()\n",
    "        MODELS.append(model)\n",
    "\n",
    "train_model_with_lr(10, learning_rates)"
   ]
  },
  {
   "cell_type": "code",
   "execution_count": 11,
   "metadata": {},
   "outputs": [
    {
     "data": {
      "image/png": "[encoded data removed]",
      "text/plain": [
       "<Figure size 432x288 with 1 Axes>"
      ]
     },
     "metadata": {
      "needs_background": "light"
     },
     "output_type": "display_data"
    }
   ],
   "source": [
    "# Plot the training loss and validation loss\n",
    "\n",
    "plt.semilogx(np.array(learning_rates), train_error.numpy(), label = 'training loss/total Loss')\n",
    "plt.semilogx(np.array(learning_rates), validation_error.numpy(), label = 'validation cost/total Loss')\n",
    "plt.ylabel('Cost\\ Total Loss')\n",
    "plt.xlabel('learning rate')\n",
    "plt.legend()\n",
    "plt.show()"
   ]
  },
  {
   "cell_type": "code",
   "execution_count": 13,
   "metadata": {},
   "outputs": [
    {
     "name": "stdout",
     "output_type": "stream",
     "text": [
      "0 [[-0.53529435]\n",
      " [-0.5181206 ]\n",
      " [-0.50094676]]\n",
      "1 [[5.606911 ]\n",
      " [5.4908247]\n",
      " [5.3747387]]\n",
      "2 [[6.657115]\n",
      " [6.520745]\n",
      " [6.384374]]\n",
      "3 [[13.917805]\n",
      " [13.502121]\n",
      " [13.086437]]\n"
     ]
    },
    {
     "data": {
      "image/png": "[encoded data removed]",
      "text/plain": [
       "<Figure size 432x288 with 1 Axes>"
      ]
     },
     "metadata": {
      "needs_background": "light"
     },
     "output_type": "display_data"
    }
   ],
   "source": [
    "# Plot the predictions\n",
    "\n",
    "i = 0\n",
    "for model, learning_rate in zip(MODELS, learning_rates):\n",
    "    yhat = model(val_data.x)\n",
    "    plt.plot(val_data.x.numpy(), yhat.detach().numpy(), label = 'lr:' + str(learning_rate))\n",
    "    print(i, yhat.detach().numpy()[0:3])\n",
    "    i+=1\n",
    "plt.plot(val_data.x.numpy(), val_data.f.numpy(), 'or', label = 'validation data')\n",
    "plt.xlabel('x')\n",
    "plt.ylabel('y')\n",
    "plt.legend()\n",
    "plt.show()"
   ]
  },
  {
   "cell_type": "markdown",
   "metadata": {},
   "source": [
    "<h3>Practice</h3>"
   ]
  },
  {
   "cell_type": "markdown",
   "metadata": {},
   "source": [
    "The object <code>good_model</code> is the best performing model. Use the train loader to get the data samples x and y. Produce an estimate for <code>yhat</code> and print it out for every sample in a for a loop. Compare it to the actual prediction <code>y</code>."
   ]
  },
  {
   "cell_type": "code",
   "execution_count": 16,
   "metadata": {},
   "outputs": [
    {
     "name": "stdout",
     "output_type": "stream",
     "text": [
      "yhat =  tensor([[6.6571]], grad_fn=<AddmmBackward>) y tensor([[0.]])\n",
      "yhat =  tensor([[6.5207]], grad_fn=<AddmmBackward>) y tensor([[9.6674]])\n",
      "yhat =  tensor([[6.3844]], grad_fn=<AddmmBackward>) y tensor([[9.6128]])\n",
      "yhat =  tensor([[6.2480]], grad_fn=<AddmmBackward>) y tensor([[9.2758]])\n",
      "yhat =  tensor([[6.1116]], grad_fn=<AddmmBackward>) y tensor([[8.6605]])\n",
      "yhat =  tensor([[5.9753]], grad_fn=<AddmmBackward>) y tensor([[8.4164]])\n",
      "yhat =  tensor([[5.8389]], grad_fn=<AddmmBackward>) y tensor([[8.1965]])\n",
      "yhat =  tensor([[5.7025]], grad_fn=<AddmmBackward>) y tensor([[7.9003]])\n",
      "yhat =  tensor([[5.5662]], grad_fn=<AddmmBackward>) y tensor([[7.7111]])\n",
      "yhat =  tensor([[5.4298]], grad_fn=<AddmmBackward>) y tensor([[7.3155]])\n",
      "yhat =  tensor([[5.2934]], grad_fn=<AddmmBackward>) y tensor([[6.9935]])\n",
      "yhat =  tensor([[5.1570]], grad_fn=<AddmmBackward>) y tensor([[6.7451]])\n",
      "yhat =  tensor([[5.0207]], grad_fn=<AddmmBackward>) y tensor([[6.5121]])\n",
      "yhat =  tensor([[4.8843]], grad_fn=<AddmmBackward>) y tensor([[6.0398]])\n",
      "yhat =  tensor([[4.7479]], grad_fn=<AddmmBackward>) y tensor([[5.7119]])\n",
      "yhat =  tensor([[4.6116]], grad_fn=<AddmmBackward>) y tensor([[5.4650]])\n",
      "yhat =  tensor([[4.4752]], grad_fn=<AddmmBackward>) y tensor([[5.3268]])\n",
      "yhat =  tensor([[4.3388]], grad_fn=<AddmmBackward>) y tensor([[4.7406]])\n",
      "yhat =  tensor([[4.2024]], grad_fn=<AddmmBackward>) y tensor([[4.8323]])\n",
      "yhat =  tensor([[4.0661]], grad_fn=<AddmmBackward>) y tensor([[4.3816]])\n",
      "yhat =  tensor([[3.9297]], grad_fn=<AddmmBackward>) y tensor([[3.9189]])\n",
      "yhat =  tensor([[3.7933]], grad_fn=<AddmmBackward>) y tensor([[3.5624]])\n",
      "yhat =  tensor([[3.6570]], grad_fn=<AddmmBackward>) y tensor([[3.4237]])\n",
      "yhat =  tensor([[3.5206]], grad_fn=<AddmmBackward>) y tensor([[3.3273]])\n",
      "yhat =  tensor([[3.3842]], grad_fn=<AddmmBackward>) y tensor([[2.5559]])\n",
      "yhat =  tensor([[3.2479]], grad_fn=<AddmmBackward>) y tensor([[2.3788]])\n",
      "yhat =  tensor([[3.1115]], grad_fn=<AddmmBackward>) y tensor([[2.1994]])\n",
      "yhat =  tensor([[2.9751]], grad_fn=<AddmmBackward>) y tensor([[1.7689]])\n",
      "yhat =  tensor([[2.8387]], grad_fn=<AddmmBackward>) y tensor([[1.6075]])\n",
      "yhat =  tensor([[2.7024]], grad_fn=<AddmmBackward>) y tensor([[1.4449]])\n",
      "yhat =  tensor([[2.5660]], grad_fn=<AddmmBackward>) y tensor([[1.0205]])\n",
      "yhat =  tensor([[2.4296]], grad_fn=<AddmmBackward>) y tensor([[0.5608]])\n",
      "yhat =  tensor([[2.2933]], grad_fn=<AddmmBackward>) y tensor([[0.3460]])\n",
      "yhat =  tensor([[2.1569]], grad_fn=<AddmmBackward>) y tensor([[0.0920]])\n",
      "yhat =  tensor([[2.0205]], grad_fn=<AddmmBackward>) y tensor([[-0.2596]])\n",
      "yhat =  tensor([[1.8842]], grad_fn=<AddmmBackward>) y tensor([[-0.4238]])\n",
      "yhat =  tensor([[1.7478]], grad_fn=<AddmmBackward>) y tensor([[-0.6943]])\n",
      "yhat =  tensor([[1.6114]], grad_fn=<AddmmBackward>) y tensor([[-1.1131]])\n",
      "yhat =  tensor([[1.4750]], grad_fn=<AddmmBackward>) y tensor([[-1.5531]])\n",
      "yhat =  tensor([[1.3387]], grad_fn=<AddmmBackward>) y tensor([[-1.8015]])\n",
      "yhat =  tensor([[1.2023]], grad_fn=<AddmmBackward>) y tensor([[-2.1093]])\n",
      "yhat =  tensor([[1.0659]], grad_fn=<AddmmBackward>) y tensor([[-2.2316]])\n",
      "yhat =  tensor([[0.9296]], grad_fn=<AddmmBackward>) y tensor([[-2.4417]])\n",
      "yhat =  tensor([[0.7932]], grad_fn=<AddmmBackward>) y tensor([[-2.9585]])\n",
      "yhat =  tensor([[0.6568]], grad_fn=<AddmmBackward>) y tensor([[-3.2201]])\n",
      "yhat =  tensor([[0.5204]], grad_fn=<AddmmBackward>) y tensor([[-3.5732]])\n",
      "yhat =  tensor([[0.3841]], grad_fn=<AddmmBackward>) y tensor([[-3.8289]])\n",
      "yhat =  tensor([[0.2477]], grad_fn=<AddmmBackward>) y tensor([[-4.1331]])\n",
      "yhat =  tensor([[0.1113]], grad_fn=<AddmmBackward>) y tensor([[-4.4817]])\n",
      "yhat =  tensor([[-0.0250]], grad_fn=<AddmmBackward>) y tensor([[-4.6359]])\n",
      "yhat =  tensor([[-0.1614]], grad_fn=<AddmmBackward>) y tensor([[20.]])\n",
      "yhat =  tensor([[-0.2978]], grad_fn=<AddmmBackward>) y tensor([[20.]])\n",
      "yhat =  tensor([[-0.4341]], grad_fn=<AddmmBackward>) y tensor([[20.]])\n",
      "yhat =  tensor([[-0.5705]], grad_fn=<AddmmBackward>) y tensor([[20.]])\n",
      "yhat =  tensor([[-0.7069]], grad_fn=<AddmmBackward>) y tensor([[20.]])\n",
      "yhat =  tensor([[-0.8433]], grad_fn=<AddmmBackward>) y tensor([[-6.4536]])\n",
      "yhat =  tensor([[-0.9796]], grad_fn=<AddmmBackward>) y tensor([[-6.7832]])\n",
      "yhat =  tensor([[-1.1160]], grad_fn=<AddmmBackward>) y tensor([[-7.0913]])\n",
      "yhat =  tensor([[-1.2524]], grad_fn=<AddmmBackward>) y tensor([[-7.4514]])\n",
      "yhat =  tensor([[-1.3887]], grad_fn=<AddmmBackward>) y tensor([[-7.6773]])\n"
     ]
    }
   ],
   "source": [
    "# Practice: Use the train loader to get the data samples x and y. Produce yhat. Compare y and yhat.\n",
    "\n",
    "good_model = MODELS[2]\n",
    "train_data = Data()\n",
    "trainloader = DataLoader(dataset = train_data, batch_size = 1)\n",
    "for x, y in trainloader:\n",
    "    print(\"yhat = \", good_model(x), \"y\", y)"
   ]
  },
  {
   "cell_type": "code",
   "execution_count": null,
   "metadata": {},
   "outputs": [],
   "source": []
  }
 ],
 "metadata": {
  "kernelspec": {
   "display_name": "Python [conda env:fastai-cpu]",
   "language": "python",
   "name": "conda-env-fastai-cpu-py"
  },
  "language_info": {
   "codemirror_mode": {
    "name": "ipython",
    "version": 3
   },
   "file_extension": ".py",
   "mimetype": "text/x-python",
   "name": "python",
   "nbconvert_exporter": "python",
   "pygments_lexer": "ipython3",
   "version": "3.6.7"
  }
 },
 "nbformat": 4,
 "nbformat_minor": 2
}
