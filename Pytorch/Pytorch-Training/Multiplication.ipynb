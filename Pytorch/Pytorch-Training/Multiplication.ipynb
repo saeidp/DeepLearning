{
 "cells": [
  {
   "cell_type": "code",
   "execution_count": 12,
   "metadata": {},
   "outputs": [
    {
     "name": "stdout",
     "output_type": "stream",
     "text": [
      "tensor([[2.3153],\n",
      "        [4.3697],\n",
      "        [3.6676],\n",
      "        [3.4880],\n",
      "        [4.6748]])\n"
     ]
    },
    {
     "data": {
      "image/png": "[encoded data removed]",
      "text/plain": [
       "<Figure size 432x288 with 1 Axes>"
      ]
     },
     "metadata": {
      "needs_background": "light"
     },
     "output_type": "display_data"
    }
   ],
   "source": [
    "import torch\n",
    "import matplotlib.pyplot as plt\n",
    "import numpy as np\n",
    "\n",
    "x = torch.ones(5,2)\n",
    "x[:,0].uniform_(-1,1)\n",
    "x[:5]\n",
    "plt.ylabel(\"y\")\n",
    "a = torch.tensor([3., 2]); a\n",
    "a = torch.tensor([[3.],[2.]]); a; a.shape\n",
    "x.shape\n",
    "y = torch.from_numpy(np.dot(x,a))\n",
    "print(y)\n",
    "x @ a\n",
    "torch.mm(x, a)\n",
    "plt.scatter(x[:,0], y);"
   ]
  },
  {
   "cell_type": "code",
   "execution_count": 31,
   "metadata": {},
   "outputs": [
    {
     "data": {
      "image/png": "[encoded data removed]",
      "text/plain": [
       "<Figure size 432x288 with 1 Axes>"
      ]
     },
     "metadata": {
      "needs_background": "light"
     },
     "output_type": "display_data"
    }
   ],
   "source": [
    "import torch\n",
    "import torch.nn as nn\n",
    "import matplotlib.pyplot as plt\n",
    "import numpy as np\n",
    "X = torch.randn(100, 1) * 10\n",
    "Y = X + 3* torch.randn(100, 1)\n",
    "#plt.plot(X.numpy(), Y.numpy(), 'o')\n",
    "#plt.ylabel(\"Y\")\n",
    "#plt.xlabel(\"X\")\n",
    "\n",
    "class LR(nn.Module):\n",
    "    def __init__(self, input_size, output_size):\n",
    "        super().__init__()\n",
    "        self.linear = nn.Linear(input_size, output_size)\n",
    "    def forward(self, x):\n",
    "        pred = self.linear(x)\n",
    "        return pred\n",
    "\n",
    "torch.manual_seed(1)\n",
    "model = LR(1,1)\n",
    "#x = torch.tensor([[1.0], [2.0]])\n",
    "#print(model.forward(x))\n",
    "#print(model)\n",
    "[w,b] = model.parameters()\n",
    "#print(w,b)\n",
    "def get_params():\n",
    "    return (w[0][0].item(), b[0].item())\n",
    "def plot_fit(title):\n",
    "    plt.title = title\n",
    "    w1, b1 = get_params()\n",
    "    x1 = np.array([-30, 30])\n",
    "    y1 = w1*x1 + b1\n",
    "    plt.plot(x1, y1, 'r')\n",
    "    plt.scatter(X,Y)\n",
    "    plt.show()\n",
    "\n",
    "#print(\"item = {0}\".format(w[0][0].item()))\n",
    "plot_fit(\"Initial Model\")"
   ]
  },
  {
   "cell_type": "code",
   "execution_count": null,
   "metadata": {},
   "outputs": [],
   "source": []
  }
 ],
 "metadata": {
  "kernelspec": {
   "display_name": "Python [conda env:fastai-cpu]",
   "language": "python",
   "name": "conda-env-fastai-cpu-py"
  },
  "language_info": {
   "codemirror_mode": {
    "name": "ipython",
    "version": 3
   },
   "file_extension": ".py",
   "mimetype": "text/x-python",
   "name": "python",
   "nbconvert_exporter": "python",
   "pygments_lexer": "ipython3",
   "version": "3.6.7"
  }
 },
 "nbformat": 4,
 "nbformat_minor": 2
}
