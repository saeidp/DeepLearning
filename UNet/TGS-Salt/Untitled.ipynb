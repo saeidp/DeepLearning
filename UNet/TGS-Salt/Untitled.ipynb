{
 "cells": [
  {
   "cell_type": "code",
   "execution_count": 62,
   "metadata": {},
   "outputs": [
    {
     "name": "stdout",
     "output_type": "stream",
     "text": [
      "[[1 5]\n",
      " [2 6]\n",
      " [3 7]\n",
      " [4 8]]\n",
      "[[ 9 13]\n",
      " [10 14]\n",
      " [11 15]\n",
      " [12 16]]\n",
      "[[ 1  5]\n",
      " [ 2  6]\n",
      " [ 3  7]\n",
      " [ 4  8]\n",
      " [ 9 13]\n",
      " [10 14]\n",
      " [11 15]\n",
      " [12 16]]\n",
      "[[0.]\n",
      " [0.]\n",
      " [0.]\n",
      " [0.]\n",
      " [0.]\n",
      " [1.]\n",
      " [1.]\n",
      " [1.]\n",
      " [1.]\n",
      " [1.]]\n",
      "[ 9 10 11 12]\n",
      "Xa\n",
      "[[16.52810469 13.80031442 14.95747597 17.4817864  16.73511598]\n",
      " [11.04544424 14.90017684 12.69728558 12.7935623  13.821197  ]]\n",
      "[[13.28808714 15.90854701 14.52207545 13.24335003 13.88772647]\n",
      " [12.66734865 14.98815815 11.58968347 12.6261354  10.29180852]]\n",
      "[[ 7.89402037  9.09126865]\n",
      " [14.30723719 12.09151703]\n",
      " [14.7288724  11.6256323 ]\n",
      " [11.51566996 15.06555843]\n",
      " [17.53950925 14.93871754]]\n"
     ]
    }
   ],
   "source": [
    "import numpy as np\n",
    "import matplotlib.pyplot as plt\n",
    "%matplotlib inline\n",
    "\n",
    "n_pts = 500\n",
    "np.random.seed(0)\n",
    "x1 = np.array([[1,2, 3, 4], [5,6,7,8]]).T\n",
    "x2= np.array([[9,10,11,12] ,[13,14,15,16]]).T\n",
    "print(x1)\n",
    "print(x2)\n",
    "\n",
    "x3 = np.vstack((x1,x2))\n",
    "print(x3)\n",
    "\n",
    "y = np.matrix(np.append(np.zeros(5), np.ones(5))).T\n",
    "print(y)\n",
    "\n",
    "print(x3[4:,0])\n",
    "\n",
    "print(\"Xa\")\n",
    "print(np.array([np.random.normal(13, 2, 5), np.random.normal(13, 2, 5)]))\n",
    "\n",
    "\n",
    "Xa = np.array([np.random.normal(13, 2, 5),np.random.normal(12, 2, 5)])\n",
    "print(Xa)\n",
    "\n",
    "Xb = np.array([np.random.normal(13, 2, 5),np.random.normal(12, 2, 5)]).T\n",
    "print(Xb)\n",
    "\n",
    "\n",
    "#Xa = np.array([np.random.normal(13, 2, n_pts),np.random.normal(12, 2, n_pts)]).T\n",
    "#print(Xa)\n",
    "\n",
    "#Xb = np.array([np.random.normal(8, 2, n_pts),np.random.normal(6, 2, n_pts)]).T\n",
    " \n",
    "#X = np.vstack((Xa, Xb))\n",
    "#y = np.matrix(np.append(np.zeros(n_pts), np.ones(n_pts))).T\n",
    " \n",
    "#plt.scatter(X[:n_pts,0], X[:n_pts,1])\n",
    "#plt.scatter(X[n_pts:,0], X[n_pts:,1])"
   ]
  },
  {
   "cell_type": "code",
   "execution_count": null,
   "metadata": {},
   "outputs": [],
   "source": []
  },
  {
   "cell_type": "code",
   "execution_count": null,
   "metadata": {},
   "outputs": [],
   "source": []
  }
 ],
 "metadata": {
  "kernelspec": {
   "display_name": "Python [conda env:unet] *",
   "language": "python",
   "name": "conda-env-unet-py"
  },
  "language_info": {
   "codemirror_mode": {
    "name": "ipython",
    "version": 3
   },
   "file_extension": ".py",
   "mimetype": "text/x-python",
   "name": "python",
   "nbconvert_exporter": "python",
   "pygments_lexer": "ipython3",
   "version": "3.6.10"
  }
 },
 "nbformat": 4,
 "nbformat_minor": 4
}
